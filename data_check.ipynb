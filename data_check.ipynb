{
 "cells": [
  {
   "cell_type": "code",
   "id": "initial_id",
   "metadata": {
    "collapsed": true,
    "ExecuteTime": {
     "end_time": "2025-04-03T14:01:14.133233Z",
     "start_time": "2025-04-03T14:01:13.893826Z"
    }
   },
   "source": [
    "import pandas as pd\n",
    "import warnings\n",
    "warnings.filterwarnings('ignore')\n",
    "import datetime as dt\n",
    "import numpy as np\n"
   ],
   "outputs": [],
   "execution_count": 1
  },
  {
   "metadata": {
    "ExecuteTime": {
     "end_time": "2025-04-03T14:01:15.483646Z",
     "start_time": "2025-04-03T14:01:15.085716Z"
    }
   },
   "cell_type": "code",
   "source": [
    "\n",
    "# Define the file path\n",
    "file_path = \"Data/CMO-Historical-Data-Monthly.xlsx\"\n",
    "\n",
    "# Read the Excel file\n",
    "df =pd.read_excel(file_path, sheet_name='Monthly Prices')\n",
    "df = df.iloc[3:].reset_index(drop=True)\n",
    "df.columns = df.iloc[0].str.strip()\n",
    "df = df[2:].reset_index(drop=True)  # Remove the first row and reset index\n",
    "\n",
    "df.rename(columns={np.nan: 'Period'}, inplace=True)\n",
    "\n",
    "for col in df.columns:\n",
    "    df.rename(columns={col:col.replace(',', '')}, inplace=True)\n",
    "\n",
    "columns = [\"Period\",\n",
    "    \"Crude oil Brent\", \"Natural gas Europe\", \"Cocoa\",\n",
    "    \"Aluminum\", \"Copper\", \"Lead\", \"Nickel\", \"Zinc\", \"Platinum\"\n",
    "]\n",
    "\n",
    "df_monthly = df[columns]\n",
    "\n",
    "for col in df_monthly.columns[1:]:\n",
    "    df_monthly[col] = df_monthly[col].astype(float)\n",
    "\n",
    "df_monthly['Date'] = pd.to_datetime(\n",
    "    df_monthly['Period'].str.replace('M', '-'),\n",
    "    format='%Y-%m'\n",
    ")\n"
   ],
   "id": "5d67e55dd1318d00",
   "outputs": [],
   "execution_count": 2
  },
  {
   "metadata": {
    "ExecuteTime": {
     "end_time": "2025-04-03T14:01:43.929459Z",
     "start_time": "2025-04-03T14:01:43.927634Z"
    }
   },
   "cell_type": "code",
   "source": "",
   "id": "f1969628a55e4ab8",
   "outputs": [],
   "execution_count": null
  }
 ],
 "metadata": {
  "kernelspec": {
   "display_name": "Python 3",
   "language": "python",
   "name": "python3"
  },
  "language_info": {
   "codemirror_mode": {
    "name": "ipython",
    "version": 2
   },
   "file_extension": ".py",
   "mimetype": "text/x-python",
   "name": "python",
   "nbconvert_exporter": "python",
   "pygments_lexer": "ipython2",
   "version": "2.7.6"
  }
 },
 "nbformat": 4,
 "nbformat_minor": 5
}
